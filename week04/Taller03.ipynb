{
  "nbformat": 4,
  "nbformat_minor": 0,
  "metadata": {
    "colab": {
      "provenance": []
    },
    "kernelspec": {
      "name": "python3",
      "display_name": "Python 3"
    },
    "language_info": {
      "name": "python"
    }
  },
  "cells": [
    {
      "cell_type": "code",
      "source": [
        "import csv\n",
        "import numpy as np\n",
        "import pandas as pd\n",
        "from collections import Counter\n",
        "from sklearn.metrics.pairwise import cosine_similarity"
      ],
      "metadata": {
        "id": "He2lLHMTX_jP"
      },
      "execution_count": 117,
      "outputs": []
    },
    {
      "cell_type": "code",
      "execution_count": 118,
      "metadata": {
        "id": "pEvHjnRsE-B5"
      },
      "outputs": [],
      "source": [
        "documentos = [\n",
        "    \"Historia de Madrid: Madrid, la capital de Espana, tiene una rica historia que se remonta al siglo IX. La ciudad fue fundada por los musulmanes, y su nombre proviene del arabe Majrit que significa fuente de agua. A lo largo de los siglos, Madrid se ha convertido en un centro politico, economico y cultural de Espana\",\n",
        "    \"El Palacio Real: El Palacio Real de Madrid es una de las residencias oficiales de la familia real espanola, aunque ahora se usa principalmente para ceremonias de estado. Con mas de 3,000 habitaciones, es el palacio real mas grande de Europa Occidental y un testimonio del esplendor y la historia de Espana.\",\n",
        "    \"Museo del Prado: El Museo del Prado es uno de los museos mas famosos del mundo y un destino imprescindible para los amantes del arte que visitan Madrid. Alberga una impresionante coleccion de obras de Velazquez, Goya, El Greco y otros maestros europeos.\",\n",
        "    \"Parque del Retiro: El Parque del Retiro es el pulmon verde de Madrid. Antiguamente perteneciente a la monarquia espanola, este parque de 118 hectareas ofrece un respiro de la vida urbana con sus estanques, jardines y el Palacio de Cristal.\",\n",
        "    \"Gastronomia Madrilena: Madrid es famosa por su vibrante escena gastronomica que incluye desde tapas en pequenos bares hasta restaurantes de alta cocina. Platos tipicos como el cocido madrileno y las patatas bravas son esenciales para cualquier visitante.\",\n",
        "    \"Gran Via: La Gran Via es una de las calles mas famosas de Madrid, conocida por sus tiendas, teatros y arquitectura emblematica. Este bullicioso bulevar es un punto de encuentro para turistas y locales por igual.\",\n",
        "    \"Real Madrid y el Estadio Santiago Bernabeu: El Real Madrid, uno de los clubes de futbol mas famosos y exitosos del mundo, juega sus partidos en el Estadio Santiago Bernabeu. Este estadio es una meca para los aficionados al futbol y ofrece tours que permiten a los visitantes explorar su rica historia.\",\n",
        "    \"Navidad en Madrid: Durante la temporada navidena, Madrid se transforma con mercados festivos, luces deslumbrantes y decoraciones. La Plaza Mayor se convierte en un enorme mercado de Navidad, donde se pueden encontrar todo tipo de regalos y delicias tradicionales.\",\n",
        "    \"Nochevieja en Puerta del Sol: La Puerta del Sol es el corazon de Madrid y el lugar donde miles se reunen cada Nochevieja para dar la bienvenida al ano nuevo. Comer las doce uvas de la suerte al son de las campanadas del reloj es una tradicion que todos deberian experimentar.\",\n",
        "    \"Madrid Rio: Madrid Rio es un parque lineal a lo largo del rio Manzanares y un ejemplo perfecto de como la ciudad ha transformado areas industriales en espacios verdes vibrantes. Es un lugar popular para caminar, andar en bicicleta y disfrutar de actividades al aire libre.\",\n",
        "    \"Historia de Dortmund: Dortmund, situada en la region del Ruhr en Alemania, tiene una historia que se remonta al ano 882. Originalmente una pequena villa, Dortmund crecio para convertirse en una importante ciudad industrial, especialmente conocida por su produccion de acero y cerveza.\",\n",
        "    \"Westfalenpark: Westfalenpark es uno de los parques urbanos mas grandes de Europa y un lugar destacado para los visitantes en Dortmund. El parque es famoso por su Rosarium, que alberga una de las colecciones mas extensas de rosas en el mundo, y la torre Florian, que ofrece vistas panoramicas de la ciudad.\",\n",
        "    \"Museo del Futbol Aleman: Inaugurado en 2015, el Museo del Futbol Aleman ofrece una experiencia interactiva que celebra la rica historia del futbol aleman. Ubicado en Dortmund, el museo atrae a aficionados de todo el mundo y destaca por sus exposiciones que cuentan desde los primeros dias del deporte hasta los triunfos en Copas del Mundo.\",\n",
        "    \"Mercado de Navidad de Dortmund: El Mercado de Navidad de Dortmund es uno de los mas grandes y mas visitados de Alemania. Con su gigantesco arbol de Navidad, posiblemente el mas alto de los mercados navidenos del pais, y mas de 300 puestos que venden artesanias, alimentos y bebidas tradicionales, es un evento imperdible durante la temporada festiva.\",\n",
        "    \"U-Tower - Centro de Arte y Creatividad: El U-Tower, una antigua cerveceria reconvertida, es ahora un centro dinamico de arte y creatividad. Alberga el Museo Ostwald, espacios de exposiciones y estudios de artistas, y es un simbolo de la transformacion cultural de Dortmund.\",\n",
        "    \"Borussia Dortmund y el Signal Iduna Park: Borussia Dortmund es uno de los clubes de futbol mas populares y exitosos de Alemania. El equipo juega sus partidos en casa en el Signal Iduna Park, conocido por su increible atmosfera y el famoso 'Muro Amarillo', la tribuna sur que alberga a 25,000 aficionados apasionados.\",\n",
        "    \"La cerveceria Dortmund: Dortmund tiene una larga tradicion cervecera, y la visita a una de sus muchas cervecerias es una parada obligatoria. Las cervecerias ofrecen tours que incluyen degustaciones de cervezas locales como Dortmunder Export, una lager que es un orgullo de la ciudad.\",\n",
        "    \"La Reinoldikirche: La iglesia de San Reinold es el edificio mas antiguo de Dortmund, datando del siglo XIII. Es un punto de referencia historico importante y ofrece a los visitantes una mirada al pasado medieval de la ciudad.\",\n",
        "    \"Dortmund durante la Segunda Guerra Mundial: Dortmund fue un objetivo significativo durante los bombardeos de la Segunda Guerra Mundial debido a su industria pesada. Hoy en dia, varios monumentos y museos ofrecen reflexiones sobre este periodo y sus efectos en la ciudad.\",\n",
        "    \"Zoologico de Dortmund: El Zoologico de Dortmund es un lugar excelente para familias y amantes de la naturaleza. Con mas de 1,500 animales y un enfoque especial en la conservacion de especies amenazadas, el zoologico proporciona una experiencia educativa y entretenida.\"\n",
        "]"
      ]
    },
    {
      "cell_type": "code",
      "source": [
        "diccionario = [\n",
        "    \"Turismo\",\n",
        "    \"Historia\",\n",
        "    \"Guerra\",\n",
        "    \"Futbol\",\n",
        "    \"Realeza\",\n",
        "    \"Gastronomia\",\n",
        "    \"Cultura\",\n",
        "    \"Naturaleza\",\n",
        "    \"Arquitectura\",\n",
        "    \"Comercio\",\n",
        "    \"Festividades\",\n",
        "    \"Transporte\",\n",
        "    \"Educacion\",\n",
        "    \"Tecnologia\",\n",
        "    \"Deportes\",\n",
        "    \"Religion\",\n",
        "    \"Entretenimiento\",\n",
        "    \"Salud\",\n",
        "    \"Industria\",\n",
        "    \"Urbanismo\"\n",
        "]"
      ],
      "metadata": {
        "id": "Q62vozBhPsQ-"
      },
      "execution_count": 119,
      "outputs": []
    },
    {
      "cell_type": "code",
      "source": [
        "def contar_terminos(documentos, diccionario):\n",
        "    matriz = []\n",
        "    for documento in documentos:\n",
        "        recuento = []\n",
        "        for termino in diccionario:\n",
        "            recuento.append(documento.lower().count(termino.lower()))  # Convertir todo a minúsculas para coincidir\n",
        "        matriz.append(recuento)\n",
        "    return matriz"
      ],
      "metadata": {
        "id": "pHES_bW4Pubk"
      },
      "execution_count": 120,
      "outputs": []
    },
    {
      "cell_type": "code",
      "source": [
        "for fila in matriz_recuentos:\n",
        "    print(fila)"
      ],
      "metadata": {
        "colab": {
          "base_uri": "https://localhost:8080/"
        },
        "id": "SZcZoEVv_E7Y",
        "outputId": "10be91bb-0782-4022-ea7f-cbb7b349e3b4"
      },
      "execution_count": 121,
      "outputs": [
        {
          "output_type": "stream",
          "name": "stdout",
          "text": [
            "[0, 2, 0, 0, 0, 0, 1, 0, 0, 0, 0, 0, 0, 0, 0, 0, 0, 0, 0, 0]\n",
            "[0, 1, 0, 0, 0, 0, 0, 0, 0, 0, 0, 0, 0, 0, 0, 0, 0, 0, 0, 0]\n",
            "[0, 0, 0, 0, 0, 0, 0, 0, 0, 0, 0, 0, 0, 0, 0, 0, 0, 0, 0, 0]\n",
            "[0, 0, 0, 0, 0, 0, 0, 0, 0, 0, 0, 0, 0, 0, 0, 0, 0, 0, 0, 0]\n",
            "[0, 0, 0, 0, 0, 1, 0, 0, 0, 0, 0, 0, 0, 0, 0, 0, 0, 0, 0, 0]\n",
            "[0, 0, 0, 0, 0, 0, 0, 0, 1, 0, 0, 0, 0, 0, 0, 0, 0, 0, 0, 0]\n",
            "[0, 1, 0, 2, 0, 0, 0, 0, 0, 0, 0, 0, 0, 0, 0, 0, 0, 0, 0, 0]\n",
            "[0, 0, 0, 0, 0, 0, 0, 0, 0, 0, 0, 0, 0, 0, 0, 0, 0, 0, 0, 0]\n",
            "[0, 0, 0, 0, 0, 0, 0, 0, 0, 0, 0, 0, 0, 0, 0, 0, 0, 0, 0, 0]\n",
            "[0, 0, 0, 0, 0, 0, 0, 0, 0, 0, 0, 0, 0, 0, 0, 0, 0, 0, 1, 0]\n",
            "[0, 2, 0, 0, 0, 0, 0, 0, 0, 0, 0, 0, 0, 0, 0, 0, 0, 0, 1, 0]\n",
            "[0, 0, 0, 0, 0, 0, 0, 0, 0, 0, 0, 0, 0, 0, 0, 0, 0, 0, 0, 0]\n",
            "[0, 1, 0, 3, 0, 0, 0, 0, 0, 0, 0, 0, 0, 0, 0, 0, 0, 0, 0, 0]\n",
            "[0, 0, 0, 0, 0, 0, 0, 0, 0, 0, 0, 0, 0, 0, 0, 0, 0, 0, 0, 0]\n",
            "[0, 0, 0, 0, 0, 0, 1, 0, 0, 0, 0, 0, 0, 0, 0, 0, 0, 0, 0, 0]\n",
            "[0, 0, 0, 1, 0, 0, 0, 0, 0, 0, 0, 0, 0, 0, 0, 0, 0, 0, 0, 0]\n",
            "[0, 0, 0, 0, 0, 0, 0, 0, 0, 0, 0, 0, 0, 0, 0, 0, 0, 0, 0, 0]\n",
            "[0, 0, 0, 0, 0, 0, 0, 0, 0, 0, 0, 0, 0, 0, 0, 0, 0, 0, 0, 0]\n",
            "[0, 0, 2, 0, 0, 0, 0, 0, 0, 0, 0, 0, 0, 0, 0, 0, 0, 0, 1, 0]\n",
            "[0, 0, 0, 0, 0, 0, 0, 1, 0, 0, 0, 0, 0, 0, 0, 0, 0, 0, 0, 0]\n"
          ]
        }
      ]
    },
    {
      "cell_type": "code",
      "source": [
        "# Obtener la matriz de recuentos\n",
        "matriz_recuentos = contar_terminos(documentos, diccionario)"
      ],
      "metadata": {
        "id": "Hc9HBfJ0PyW8"
      },
      "execution_count": 122,
      "outputs": []
    },
    {
      "cell_type": "code",
      "source": [
        "# Imprimir la matriz de recuentos\n",
        "for fila in matriz_recuentos:\n",
        "    print(fila)"
      ],
      "metadata": {
        "colab": {
          "base_uri": "https://localhost:8080/"
        },
        "id": "s2XE7XNxPzSM",
        "outputId": "649b493e-c61e-4f49-c42b-86beae30b6cf"
      },
      "execution_count": 123,
      "outputs": [
        {
          "output_type": "stream",
          "name": "stdout",
          "text": [
            "[0, 2, 0, 0, 0, 0, 1, 0, 0, 0, 0, 0, 0, 0, 0, 0, 0, 0, 0, 0]\n",
            "[0, 1, 0, 0, 0, 0, 0, 0, 0, 0, 0, 0, 0, 0, 0, 0, 0, 0, 0, 0]\n",
            "[0, 0, 0, 0, 0, 0, 0, 0, 0, 0, 0, 0, 0, 0, 0, 0, 0, 0, 0, 0]\n",
            "[0, 0, 0, 0, 0, 0, 0, 0, 0, 0, 0, 0, 0, 0, 0, 0, 0, 0, 0, 0]\n",
            "[0, 0, 0, 0, 0, 1, 0, 0, 0, 0, 0, 0, 0, 0, 0, 0, 0, 0, 0, 0]\n",
            "[0, 0, 0, 0, 0, 0, 0, 0, 1, 0, 0, 0, 0, 0, 0, 0, 0, 0, 0, 0]\n",
            "[0, 1, 0, 2, 0, 0, 0, 0, 0, 0, 0, 0, 0, 0, 0, 0, 0, 0, 0, 0]\n",
            "[0, 0, 0, 0, 0, 0, 0, 0, 0, 0, 0, 0, 0, 0, 0, 0, 0, 0, 0, 0]\n",
            "[0, 0, 0, 0, 0, 0, 0, 0, 0, 0, 0, 0, 0, 0, 0, 0, 0, 0, 0, 0]\n",
            "[0, 0, 0, 0, 0, 0, 0, 0, 0, 0, 0, 0, 0, 0, 0, 0, 0, 0, 1, 0]\n",
            "[0, 2, 0, 0, 0, 0, 0, 0, 0, 0, 0, 0, 0, 0, 0, 0, 0, 0, 1, 0]\n",
            "[0, 0, 0, 0, 0, 0, 0, 0, 0, 0, 0, 0, 0, 0, 0, 0, 0, 0, 0, 0]\n",
            "[0, 1, 0, 3, 0, 0, 0, 0, 0, 0, 0, 0, 0, 0, 0, 0, 0, 0, 0, 0]\n",
            "[0, 0, 0, 0, 0, 0, 0, 0, 0, 0, 0, 0, 0, 0, 0, 0, 0, 0, 0, 0]\n",
            "[0, 0, 0, 0, 0, 0, 1, 0, 0, 0, 0, 0, 0, 0, 0, 0, 0, 0, 0, 0]\n",
            "[0, 0, 0, 1, 0, 0, 0, 0, 0, 0, 0, 0, 0, 0, 0, 0, 0, 0, 0, 0]\n",
            "[0, 0, 0, 0, 0, 0, 0, 0, 0, 0, 0, 0, 0, 0, 0, 0, 0, 0, 0, 0]\n",
            "[0, 0, 0, 0, 0, 0, 0, 0, 0, 0, 0, 0, 0, 0, 0, 0, 0, 0, 0, 0]\n",
            "[0, 0, 2, 0, 0, 0, 0, 0, 0, 0, 0, 0, 0, 0, 0, 0, 0, 0, 1, 0]\n",
            "[0, 0, 0, 0, 0, 0, 0, 1, 0, 0, 0, 0, 0, 0, 0, 0, 0, 0, 0, 0]\n"
          ]
        }
      ]
    },
    {
      "cell_type": "code",
      "source": [
        "query = [\"Historia medieval de las ciudades europeas\",\n",
        "         \"Principales destinos turisticos en Europa\",\n",
        "         \"Influencia de la realeza en la cultura europea\",\n",
        "         \"Importancia de los parques urbanos en las ciudades\",\n",
        "         \"Gastronomia tipica en capitales europeas\",\n",
        "         \"Eventos deportivos iconicos en Europa\",\n",
        "         \"Celebraciones de Navidad en ciudades europeas\",\n",
        "         \"Museos de arte importantes en Europa\",\n",
        "         \"Efectos de la Segunda Guerra Mundial en ciudades europeas\",\n",
        "         \"Arquitectura historica en ciudades europeas\",\n",
        "         \"Clubes de futbol famosos y sus estadios en Europa\",\n",
        "         \"Transformacion urbana y regeneracion de espacios\",\n",
        "         \"Tradicion cervecera en ciudades europeas\",\n",
        "         \"Mercados y comercio tradicional en Europa\",\n",
        "         \"Centros de arte y creatividad en ciudades modernas\",\n",
        "         \"Actividades de ocio y entretenimiento en ciudades metropolitanas\",\n",
        "         \"Conservacion de la naturaleza y la vida silvestre en zonas urbanas\",\n",
        "         \"Planificacion de eventos culturales y festivales en ciudades\",\n",
        "         \"Desarrollo del transporte y la infraestructura urbana\",\n",
        "         \"Impacto de la tecnolog´ıa en la vida urbana\"\n",
        "]"
      ],
      "metadata": {
        "id": "_7A9uvW-RxfT"
      },
      "execution_count": 124,
      "outputs": []
    },
    {
      "cell_type": "code",
      "source": [
        "def contar_terminos_query(query, diccionario):\n",
        "    matriz_query = []\n",
        "    for consulta in query:\n",
        "        recuento = []\n",
        "        for termino in diccionario:\n",
        "            recuento.append(consulta.lower().count(termino.lower()))  # Convertir todo a minúsculas para coincidir\n",
        "        matriz_query.append(recuento)\n",
        "    return matriz_query"
      ],
      "metadata": {
        "id": "kWbR8y8aTH6J"
      },
      "execution_count": 125,
      "outputs": []
    },
    {
      "cell_type": "code",
      "source": [
        "# Obtener la matriz de recuentos para el query\n",
        "matriz_recuentos_query = contar_terminos_query(query, diccionario)"
      ],
      "metadata": {
        "id": "kxL8mgvvVJTl"
      },
      "execution_count": 126,
      "outputs": []
    },
    {
      "cell_type": "code",
      "source": [
        "# Imprimir la matriz de recuentos del query\n",
        "for fila in matriz_recuentos_query:\n",
        "    print(fila)"
      ],
      "metadata": {
        "colab": {
          "base_uri": "https://localhost:8080/"
        },
        "id": "1qW3VDkbVKbm",
        "outputId": "78b55fc7-94ed-442b-ca1f-599da7e15a17"
      },
      "execution_count": 127,
      "outputs": [
        {
          "output_type": "stream",
          "name": "stdout",
          "text": [
            "[0, 1, 0, 0, 0, 0, 0, 0, 0, 0, 0, 0, 0, 0, 0, 0, 0, 0, 0, 0]\n",
            "[0, 0, 0, 0, 0, 0, 0, 0, 0, 0, 0, 0, 0, 0, 0, 0, 0, 0, 0, 0]\n",
            "[0, 0, 0, 0, 1, 0, 1, 0, 0, 0, 0, 0, 0, 0, 0, 0, 0, 0, 0, 0]\n",
            "[0, 0, 0, 0, 0, 0, 0, 0, 0, 0, 0, 0, 0, 0, 0, 0, 0, 0, 0, 0]\n",
            "[0, 0, 0, 0, 0, 1, 0, 0, 0, 0, 0, 0, 0, 0, 0, 0, 0, 0, 0, 0]\n",
            "[0, 0, 0, 0, 0, 0, 0, 0, 0, 0, 0, 0, 0, 0, 0, 0, 0, 0, 0, 0]\n",
            "[0, 0, 0, 0, 0, 0, 0, 0, 0, 0, 0, 0, 0, 0, 0, 0, 0, 0, 0, 0]\n",
            "[0, 0, 0, 0, 0, 0, 0, 0, 0, 0, 0, 0, 0, 0, 0, 0, 0, 0, 0, 0]\n",
            "[0, 0, 1, 0, 0, 0, 0, 0, 0, 0, 0, 0, 0, 0, 0, 0, 0, 0, 0, 0]\n",
            "[0, 0, 0, 0, 0, 0, 0, 0, 1, 0, 0, 0, 0, 0, 0, 0, 0, 0, 0, 0]\n",
            "[0, 0, 0, 1, 0, 0, 0, 0, 0, 0, 0, 0, 0, 0, 0, 0, 0, 0, 0, 0]\n",
            "[0, 0, 0, 0, 0, 0, 0, 0, 0, 0, 0, 0, 0, 0, 0, 0, 0, 0, 0, 0]\n",
            "[0, 0, 0, 0, 0, 0, 0, 0, 0, 0, 0, 0, 0, 0, 0, 0, 0, 0, 0, 0]\n",
            "[0, 0, 0, 0, 0, 0, 0, 0, 0, 1, 0, 0, 0, 0, 0, 0, 0, 0, 0, 0]\n",
            "[0, 0, 0, 0, 0, 0, 0, 0, 0, 0, 0, 0, 0, 0, 0, 0, 0, 0, 0, 0]\n",
            "[0, 0, 0, 0, 0, 0, 0, 0, 0, 0, 0, 0, 0, 0, 0, 0, 1, 0, 0, 0]\n",
            "[0, 0, 0, 0, 0, 0, 0, 1, 0, 0, 0, 0, 0, 0, 0, 0, 0, 0, 0, 0]\n",
            "[0, 0, 0, 0, 0, 0, 1, 0, 0, 0, 0, 0, 0, 0, 0, 0, 0, 0, 0, 0]\n",
            "[0, 0, 0, 0, 0, 0, 0, 0, 0, 0, 0, 1, 0, 0, 0, 0, 0, 0, 0, 0]\n",
            "[0, 0, 0, 0, 0, 0, 0, 0, 0, 0, 0, 0, 0, 0, 0, 0, 0, 0, 0, 0]\n"
          ]
        }
      ]
    },
    {
      "cell_type": "code",
      "source": [
        "distance = cosine_similarity(matriz_recuentos, matriz_recuentos_query)"
      ],
      "metadata": {
        "id": "2wh70XzP71jV"
      },
      "execution_count": 128,
      "outputs": []
    },
    {
      "cell_type": "code",
      "source": [
        "print(distance)"
      ],
      "metadata": {
        "colab": {
          "base_uri": "https://localhost:8080/"
        },
        "id": "anAHGnte8Xqz",
        "outputId": "f798aa0f-72fe-4dbd-d906-990f908d689a"
      },
      "execution_count": 129,
      "outputs": [
        {
          "output_type": "stream",
          "name": "stdout",
          "text": [
            "[[0.89442719 0.         0.31622777 0.         0.         0.\n",
            "  0.         0.         0.         0.         0.         0.\n",
            "  0.         0.         0.         0.         0.         0.4472136\n",
            "  0.         0.        ]\n",
            " [1.         0.         0.         0.         0.         0.\n",
            "  0.         0.         0.         0.         0.         0.\n",
            "  0.         0.         0.         0.         0.         0.\n",
            "  0.         0.        ]\n",
            " [0.         0.         0.         0.         0.         0.\n",
            "  0.         0.         0.         0.         0.         0.\n",
            "  0.         0.         0.         0.         0.         0.\n",
            "  0.         0.        ]\n",
            " [0.         0.         0.         0.         0.         0.\n",
            "  0.         0.         0.         0.         0.         0.\n",
            "  0.         0.         0.         0.         0.         0.\n",
            "  0.         0.        ]\n",
            " [0.         0.         0.         0.         1.         0.\n",
            "  0.         0.         0.         0.         0.         0.\n",
            "  0.         0.         0.         0.         0.         0.\n",
            "  0.         0.        ]\n",
            " [0.         0.         0.         0.         0.         0.\n",
            "  0.         0.         0.         1.         0.         0.\n",
            "  0.         0.         0.         0.         0.         0.\n",
            "  0.         0.        ]\n",
            " [0.4472136  0.         0.         0.         0.         0.\n",
            "  0.         0.         0.         0.         0.89442719 0.\n",
            "  0.         0.         0.         0.         0.         0.\n",
            "  0.         0.        ]\n",
            " [0.         0.         0.         0.         0.         0.\n",
            "  0.         0.         0.         0.         0.         0.\n",
            "  0.         0.         0.         0.         0.         0.\n",
            "  0.         0.        ]\n",
            " [0.         0.         0.         0.         0.         0.\n",
            "  0.         0.         0.         0.         0.         0.\n",
            "  0.         0.         0.         0.         0.         0.\n",
            "  0.         0.        ]\n",
            " [0.         0.         0.         0.         0.         0.\n",
            "  0.         0.         0.         0.         0.         0.\n",
            "  0.         0.         0.         0.         0.         0.\n",
            "  0.         0.        ]\n",
            " [0.89442719 0.         0.         0.         0.         0.\n",
            "  0.         0.         0.         0.         0.         0.\n",
            "  0.         0.         0.         0.         0.         0.\n",
            "  0.         0.        ]\n",
            " [0.         0.         0.         0.         0.         0.\n",
            "  0.         0.         0.         0.         0.         0.\n",
            "  0.         0.         0.         0.         0.         0.\n",
            "  0.         0.        ]\n",
            " [0.31622777 0.         0.         0.         0.         0.\n",
            "  0.         0.         0.         0.         0.9486833  0.\n",
            "  0.         0.         0.         0.         0.         0.\n",
            "  0.         0.        ]\n",
            " [0.         0.         0.         0.         0.         0.\n",
            "  0.         0.         0.         0.         0.         0.\n",
            "  0.         0.         0.         0.         0.         0.\n",
            "  0.         0.        ]\n",
            " [0.         0.         0.70710678 0.         0.         0.\n",
            "  0.         0.         0.         0.         0.         0.\n",
            "  0.         0.         0.         0.         0.         1.\n",
            "  0.         0.        ]\n",
            " [0.         0.         0.         0.         0.         0.\n",
            "  0.         0.         0.         0.         1.         0.\n",
            "  0.         0.         0.         0.         0.         0.\n",
            "  0.         0.        ]\n",
            " [0.         0.         0.         0.         0.         0.\n",
            "  0.         0.         0.         0.         0.         0.\n",
            "  0.         0.         0.         0.         0.         0.\n",
            "  0.         0.        ]\n",
            " [0.         0.         0.         0.         0.         0.\n",
            "  0.         0.         0.         0.         0.         0.\n",
            "  0.         0.         0.         0.         0.         0.\n",
            "  0.         0.        ]\n",
            " [0.         0.         0.         0.         0.         0.\n",
            "  0.         0.         0.89442719 0.         0.         0.\n",
            "  0.         0.         0.         0.         0.         0.\n",
            "  0.         0.        ]\n",
            " [0.         0.         0.         0.         0.         0.\n",
            "  0.         0.         0.         0.         0.         0.\n",
            "  0.         0.         0.         0.         1.         0.\n",
            "  0.         0.        ]]\n"
          ]
        }
      ]
    },
    {
      "cell_type": "code",
      "source": [
        "top = []\n",
        "for fila in distance:\n",
        "  index = np.argsort(fila)[-3:][::-1]\n",
        "  top.append(fila[index])"
      ],
      "metadata": {
        "id": "DGFQCb-rFEyq"
      },
      "execution_count": 130,
      "outputs": []
    },
    {
      "cell_type": "code",
      "source": [
        "query_matrix = np.array(query)\n",
        "top_3_matrix = np.array(top)"
      ],
      "metadata": {
        "id": "Uzs_nyqOFUWe"
      },
      "execution_count": 131,
      "outputs": []
    },
    {
      "cell_type": "code",
      "source": [
        "concatenated_matrix = np.empty((len(query_matrix), 2), dtype=object)"
      ],
      "metadata": {
        "id": "VY_CbDFcFVb9"
      },
      "execution_count": 132,
      "outputs": []
    },
    {
      "cell_type": "code",
      "source": [
        "for i in range(len(query_matrix)):\n",
        "    concatenated_matrix[i] = [query_matrix[i], top_3_matrix[i]]"
      ],
      "metadata": {
        "id": "1eU5nhahFW5W"
      },
      "execution_count": 133,
      "outputs": []
    },
    {
      "cell_type": "code",
      "source": [
        "print(concatenated_matrix)"
      ],
      "metadata": {
        "colab": {
          "base_uri": "https://localhost:8080/"
        },
        "id": "mFTFr5raFZo-",
        "outputId": "d601171b-6f30-4c43-b303-3e742f077c3b"
      },
      "execution_count": 134,
      "outputs": [
        {
          "output_type": "stream",
          "name": "stdout",
          "text": [
            "[['Historia medieval de las ciudades europeas'\n",
            "  array([0.89442719, 0.4472136 , 0.31622777])]\n",
            " ['Principales destinos turisticos en Europa' array([1., 0., 0.])]\n",
            " ['Influencia de la realeza en la cultura europea' array([0., 0., 0.])]\n",
            " ['Importancia de los parques urbanos en las ciudades'\n",
            "  array([0., 0., 0.])]\n",
            " ['Gastronomia tipica en capitales europeas' array([1., 0., 0.])]\n",
            " ['Eventos deportivos iconicos en Europa' array([1., 0., 0.])]\n",
            " ['Celebraciones de Navidad en ciudades europeas'\n",
            "  array([0.89442719, 0.4472136 , 0.        ])]\n",
            " ['Museos de arte importantes en Europa' array([0., 0., 0.])]\n",
            " ['Efectos de la Segunda Guerra Mundial en ciudades europeas'\n",
            "  array([0., 0., 0.])]\n",
            " ['Arquitectura historica en ciudades europeas' array([0., 0., 0.])]\n",
            " ['Clubes de futbol famosos y sus estadios en Europa'\n",
            "  array([0.89442719, 0.        , 0.        ])]\n",
            " ['Transformacion urbana y regeneracion de espacios' array([0., 0., 0.])]\n",
            " ['Tradicion cervecera en ciudades europeas'\n",
            "  array([0.9486833 , 0.31622777, 0.        ])]\n",
            " ['Mercados y comercio tradicional en Europa' array([0., 0., 0.])]\n",
            " ['Centros de arte y creatividad en ciudades modernas'\n",
            "  array([1.        , 0.70710678, 0.        ])]\n",
            " ['Actividades de ocio y entretenimiento en ciudades metropolitanas'\n",
            "  array([1., 0., 0.])]\n",
            " ['Conservacion de la naturaleza y la vida silvestre en zonas urbanas'\n",
            "  array([0., 0., 0.])]\n",
            " ['Planificacion de eventos culturales y festivales en ciudades'\n",
            "  array([0., 0., 0.])]\n",
            " ['Desarrollo del transporte y la infraestructura urbana'\n",
            "  array([0.89442719, 0.        , 0.        ])]\n",
            " ['Impacto de la tecnolog´ıa en la vida urbana' array([1., 0., 0.])]]\n"
          ]
        }
      ]
    },
    {
      "cell_type": "code",
      "source": [
        "df = pd.DataFrame(concatenated_matrix)\n",
        "df.to_csv(\"vect_normalized.csv\", index=True)"
      ],
      "metadata": {
        "id": "LydpIXhTFeqs"
      },
      "execution_count": 135,
      "outputs": []
    }
  ]
}