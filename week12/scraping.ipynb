{
 "cells": [
  {
   "cell_type": "code",
   "execution_count": 56,
   "metadata": {},
   "outputs": [],
   "source": [
    "import os\n",
    "from bs4 import BeautifulSoup\n",
    "import pandas as pd"
   ]
  },
  {
   "cell_type": "code",
   "execution_count": 57,
   "metadata": {},
   "outputs": [],
   "source": [
    "# Definir la carpeta donde se encuentran los archivos HTML\n",
    "folder_path = \"D:\\\\U\\\\7. Septimo\\\\RI\\\\ir24a\\\\week12\\\\data\"    "
   ]
  },
  {
   "cell_type": "code",
   "execution_count": 58,
   "metadata": {},
   "outputs": [],
   "source": [
    "# Lista para almacenar los datos de cada archivo\n",
    "data_list = []"
   ]
  },
  {
   "cell_type": "code",
   "execution_count": 59,
   "metadata": {},
   "outputs": [
    {
     "name": "stdout",
     "output_type": "stream",
     "text": [
      "[]\n"
     ]
    }
   ],
   "source": [
    "print(data_list)"
   ]
  },
  {
   "cell_type": "code",
   "execution_count": 60,
   "metadata": {},
   "outputs": [],
   "source": [
    "# Iterar sobre todos los archivos en la carpeta\n",
    "for filename in os.listdir(folder_path):\n",
    "    if filename.endswith(\".html\"):\n",
    "        file_path = os.path.join(folder_path, filename)\n",
    "        with open(file_path, 'r', encoding='utf-8') as file:\n",
    "            html_content = file.read()\n",
    "        \n",
    "        # Parsear el contenido HTML\n",
    "        soup = BeautifulSoup(html_content, 'html.parser')\n",
    "\n",
    "        # Extraer título\n",
    "        title = soup.find(\"meta\", {\"property\": \"og:title\"})['content'] if soup.find(\"meta\", {\"property\": \"og:title\"}) else \"No Title\"\n",
    "\n",
    "        # Extraer descripción\n",
    "        description = soup.find('p', class_='article-subheading type--dog').text if soup.find('p', class_='article-subheading type--dog') else \"No Description\"\n",
    "\n",
    "        # Extraer pasos\n",
    "        steps = [item.text.strip() for item in soup.find_all(\"p\", class_='comp mntl-sc-block mntl-sc-block-html')]\n",
    "\n",
    "        # Extraer ingredientes\n",
    "        ingredients = [item.text.strip() for item in soup.find_all(\"li\", class_='mm-recipes-structured-ingredients__list-item')]\n",
    "         # Agregar los datos a la lista\n",
    "        data_list.append({\n",
    "            \"Title\": title,\n",
    "            \"Description\": description,\n",
    "            \"Steps\": steps,\n",
    "            \"Ingredients\": ingredients\n",
    "        })        "
   ]
  },
  {
   "cell_type": "code",
   "execution_count": 61,
   "metadata": {},
   "outputs": [],
   "source": [
    "# Crear un DataFrame con los datos de todos los archivos\n",
    "df = pd.DataFrame(data_list)"
   ]
  },
  {
   "cell_type": "code",
   "execution_count": 62,
   "metadata": {},
   "outputs": [
    {
     "data": {
      "text/html": [
       "<div>\n",
       "<style scoped>\n",
       "    .dataframe tbody tr th:only-of-type {\n",
       "        vertical-align: middle;\n",
       "    }\n",
       "\n",
       "    .dataframe tbody tr th {\n",
       "        vertical-align: top;\n",
       "    }\n",
       "\n",
       "    .dataframe thead th {\n",
       "        text-align: right;\n",
       "    }\n",
       "</style>\n",
       "<table border=\"1\" class=\"dataframe\">\n",
       "  <thead>\n",
       "    <tr style=\"text-align: right;\">\n",
       "      <th></th>\n",
       "      <th>Title</th>\n",
       "      <th>Description</th>\n",
       "      <th>Steps</th>\n",
       "      <th>Ingredients</th>\n",
       "    </tr>\n",
       "  </thead>\n",
       "  <tbody>\n",
       "    <tr>\n",
       "      <th>0</th>\n",
       "      <td>Lentil Chili Carrot Dogs</td>\n",
       "      <td>These lentil chili carrot dogs—vegetarian hot ...</td>\n",
       "      <td>[Make Lentil Chili: Reserve 1/2 cup onion for ...</td>\n",
       "      <td>[1 tablespoon vegetable oil, 1 cup minced onio...</td>\n",
       "    </tr>\n",
       "    <tr>\n",
       "      <th>1</th>\n",
       "      <td>Mediterranean Chicken Pitas</td>\n",
       "      <td>A perfect way to use leftover chicken breasts ...</td>\n",
       "      <td>[Combine artichokes with feta cheese, green on...</td>\n",
       "      <td>[1 cup marinated artichoke hearts, drained and...</td>\n",
       "    </tr>\n",
       "    <tr>\n",
       "      <th>2</th>\n",
       "      <td>Strawberry Lime-Sage Shrub</td>\n",
       "      <td>This strawberry lime-sage shrub is a bright, z...</td>\n",
       "      <td>[Zest and juice 2 limes to yield 1 teaspoon ze...</td>\n",
       "      <td>[4 limes, divided, 1 cup white sugar, 1 cup wa...</td>\n",
       "    </tr>\n",
       "    <tr>\n",
       "      <th>3</th>\n",
       "      <td>Summer Fruit Icebox Cake</td>\n",
       "      <td>A summer berry icebox cake makes good use of s...</td>\n",
       "      <td>[Line an 8 1/2x4 1/2- inch loaf pan with enoug...</td>\n",
       "      <td>[2 1/4 cups cold heavy whipping cream, 1/4 cup...</td>\n",
       "    </tr>\n",
       "    <tr>\n",
       "      <th>4</th>\n",
       "      <td>Vietnamese Fresh Spring Rolls</td>\n",
       "      <td>These Vietnamese spring rolls are a refreshing...</td>\n",
       "      <td>[Make restaurant-worthy spring rolls at home w...</td>\n",
       "      <td>[2 ounces rice vermicelli, 8  rice wrappers (8...</td>\n",
       "    </tr>\n",
       "  </tbody>\n",
       "</table>\n",
       "</div>"
      ],
      "text/plain": [
       "                           Title  \\\n",
       "0       Lentil Chili Carrot Dogs   \n",
       "1    Mediterranean Chicken Pitas   \n",
       "2     Strawberry Lime-Sage Shrub   \n",
       "3       Summer Fruit Icebox Cake   \n",
       "4  Vietnamese Fresh Spring Rolls   \n",
       "\n",
       "                                         Description  \\\n",
       "0  These lentil chili carrot dogs—vegetarian hot ...   \n",
       "1  A perfect way to use leftover chicken breasts ...   \n",
       "2  This strawberry lime-sage shrub is a bright, z...   \n",
       "3  A summer berry icebox cake makes good use of s...   \n",
       "4  These Vietnamese spring rolls are a refreshing...   \n",
       "\n",
       "                                               Steps  \\\n",
       "0  [Make Lentil Chili: Reserve 1/2 cup onion for ...   \n",
       "1  [Combine artichokes with feta cheese, green on...   \n",
       "2  [Zest and juice 2 limes to yield 1 teaspoon ze...   \n",
       "3  [Line an 8 1/2x4 1/2- inch loaf pan with enoug...   \n",
       "4  [Make restaurant-worthy spring rolls at home w...   \n",
       "\n",
       "                                         Ingredients  \n",
       "0  [1 tablespoon vegetable oil, 1 cup minced onio...  \n",
       "1  [1 cup marinated artichoke hearts, drained and...  \n",
       "2  [4 limes, divided, 1 cup white sugar, 1 cup wa...  \n",
       "3  [2 1/4 cups cold heavy whipping cream, 1/4 cup...  \n",
       "4  [2 ounces rice vermicelli, 8  rice wrappers (8...  "
      ]
     },
     "execution_count": 62,
     "metadata": {},
     "output_type": "execute_result"
    }
   ],
   "source": [
    "df"
   ]
  }
 ],
 "metadata": {
  "kernelspec": {
   "display_name": ".venv",
   "language": "python",
   "name": "python3"
  },
  "language_info": {
   "codemirror_mode": {
    "name": "ipython",
    "version": 3
   },
   "file_extension": ".py",
   "mimetype": "text/x-python",
   "name": "python",
   "nbconvert_exporter": "python",
   "pygments_lexer": "ipython3",
   "version": "3.8.10"
  }
 },
 "nbformat": 4,
 "nbformat_minor": 2
}
