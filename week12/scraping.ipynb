{
 "cells": [
  {
   "cell_type": "code",
   "execution_count": 34,
   "metadata": {},
   "outputs": [],
   "source": [
    "from bs4 import BeautifulSoup"
   ]
  },
  {
   "cell_type": "code",
   "execution_count": 35,
   "metadata": {},
   "outputs": [],
   "source": [
    "with open('D:\\\\U\\\\7. Septimo\\\\RI\\\\ir24a\\\\week12\\\\data\\\\Lentil Chili Carrot Dogs Recipe.html', 'r', encoding='utf-8') as file:\n",
    "    html_content = file.read()\n"
   ]
  },
  {
   "cell_type": "code",
   "execution_count": 36,
   "metadata": {},
   "outputs": [],
   "source": [
    "soup = BeautifulSoup(html_content, 'html.parser')"
   ]
  },
  {
   "cell_type": "code",
   "execution_count": 37,
   "metadata": {},
   "outputs": [
    {
     "data": {
      "text/plain": [
       "<p class=\"article-subheading type--dog\">These lentil chili carrot dogs—vegetarian hot dogs—are a must-have for summer barbecues and get-togethers. With a few adjustments, it can feed the vegans and meat eaters in your life, too.</p>"
      ]
     },
     "execution_count": 37,
     "metadata": {},
     "output_type": "execute_result"
    }
   ],
   "source": [
    "soup.find('p', class_='article-subheading type--dog')"
   ]
  },
  {
   "cell_type": "code",
   "execution_count": 38,
   "metadata": {},
   "outputs": [],
   "source": [
    "description = soup.find('p', class_='article-subheading type--dog').text"
   ]
  },
  {
   "cell_type": "code",
   "execution_count": 39,
   "metadata": {},
   "outputs": [
    {
     "data": {
      "text/plain": [
       "'These lentil chili carrot dogs—vegetarian hot dogs—are a must-have for summer barbecues and get-togethers. With a few adjustments, it can feed the vegans and meat eaters in your life, too.'"
      ]
     },
     "execution_count": 39,
     "metadata": {},
     "output_type": "execute_result"
    }
   ],
   "source": [
    "description"
   ]
  },
  {
   "cell_type": "code",
   "execution_count": 40,
   "metadata": {},
   "outputs": [
    {
     "data": {
      "text/plain": [
       "'Lentil Chili Carrot Dogs'"
      ]
     },
     "execution_count": 40,
     "metadata": {},
     "output_type": "execute_result"
    }
   ],
   "source": [
    "soup.find(\"meta\",{\"property\":\"og:title\"})['content']"
   ]
  },
  {
   "cell_type": "code",
   "execution_count": 43,
   "metadata": {},
   "outputs": [
    {
     "name": "stdout",
     "output_type": "stream",
     "text": [
      "Make Lentil Chili: Reserve 1/2 cup onion for serving. Heat oil in a medium saucepan over medium-high heat. Add remaining 1/2 cup onion; cook, stirring occasionally, until translucent, about 4 minutes. Add chili powder, paprika, cumin, garlic powder, pepper, and salt. Cook, stirring constantly, 1 minute.\n",
      "Add lentils, tomato sauce, vinegar, and brown sugar. Bring to a boil over medium-high heat; reduce heat to low. Simmer, uncovered, to allow flavors to meld, about 15 minutes; keep warm.\n",
      "Prepare Carrot Dogs: Meanwhile, trim carrots to about 7 inches (see Cook’s Note).\n",
      "Whisk together brown sugar, water, soy sauce, and liquid smoke in a large saucepan. Add carrots and enough additional water to cover. Bring to a boil over high heat; reduce heat to medium-low and simmer, covered, until carrots are tender, 10 to 15 minutes. Remove from heat. Keep warm in cooking liquid until ready to serve; drain.\n",
      "Serve carrots in buns; top with chili, cheese, and reserved 1/2 cup onion. Serve with mustard.\n"
     ]
    }
   ],
   "source": [
    "for item in soup.find_all(\"p\", class_='comp mntl-sc-block mntl-sc-block-html'):\n",
    "    print(item.text.strip())\n",
    "    steps = item.text.strip()"
   ]
  },
  {
   "cell_type": "code",
   "execution_count": 44,
   "metadata": {},
   "outputs": [
    {
     "name": "stdout",
     "output_type": "stream",
     "text": [
      "1 tablespoon vegetable oil\n",
      "1 cup minced onion, divided\n",
      "1 1/2 teaspoons chili powder\n",
      "1 teaspoon paprika\n",
      "1/2 teaspoon ground cumin\n",
      "1/2 teaspoon garlic powder\n",
      "1/2 teaspoon ground black pepper\n",
      "1/4 teaspoon salt\n",
      "1 (15 ounce) can lentils, drained and rinsed\n",
      "1 (15 ounce) can tomato sauce\n",
      "1 tablespoon cider vinegar\n",
      "1 tablespoon packed brown sugar\n",
      "8 large carrots (about 1 inch in diameter), peeled\n",
      "1/2 cup packed brown sugar\n",
      "4 cups water, plus more as needed\n",
      "2 cups less-sodium soy sauce\n",
      "8 drops liquid smoke\n",
      "8 hot dog buns, split\n",
      "4 ounces Cheddar cheese, shredded (about 1 cup)\n",
      "yellow mustard, for serving\n"
     ]
    }
   ],
   "source": [
    "for item in soup.find_all(\"li\", class_='mm-recipes-structured-ingredients__list-item'):\n",
    "    print(item.text.strip())\n",
    "    steps = item.text.strip()"
   ]
  }
 ],
 "metadata": {
  "kernelspec": {
   "display_name": ".venv",
   "language": "python",
   "name": "python3"
  },
  "language_info": {
   "codemirror_mode": {
    "name": "ipython",
    "version": 3
   },
   "file_extension": ".py",
   "mimetype": "text/x-python",
   "name": "python",
   "nbconvert_exporter": "python",
   "pygments_lexer": "ipython3",
   "version": "3.8.10"
  }
 },
 "nbformat": 4,
 "nbformat_minor": 2
}
